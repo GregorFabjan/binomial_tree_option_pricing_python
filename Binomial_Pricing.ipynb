{
 "cells": [
  {
   "cell_type": "markdown",
   "id": "2ee296ee",
   "metadata": {},
   "source": [
    "## Problem\n",
    "A simple and fast model to price an European option with simple assumptions"
   ]
  },
  {
   "cell_type": "markdown",
   "id": "b0fe12a4",
   "metadata": {},
   "source": [
    "## Solution\n",
    "Binomial asst pricing model \n",
    "Inputs:\n",
    "-  $N$ ... # of time intervals\n",
    "-  $T$ ... time to maturity\n",
    "-  $ S_0$ ... initial stock price\n",
    "-  $ \\sigma $ ... volatility\n",
    "-  $ r $ ... risk-free interest rate\n",
    "-  $ K $ ... strike price\n",
    "-  $isCall$ ... is the option a call option (or a Put option if false)\n"
   ]
  },
  {
   "cell_type": "code",
   "execution_count": 61,
   "id": "af01e193",
   "metadata": {},
   "outputs": [],
   "source": [
    "def binom_tree_option(N, T, S0, sigma, r, K, isCall = True):\n",
    "\n",
    "    # Initial calculations\n",
    "    dt = T/N  # Length of a single time period\n",
    "    u = np.exp(sigma * np.sqrt(dt)) # relative size of the \"up\" movement \n",
    "    d = 1/u # relative size of the \"down\" movement\n",
    "    q = (np.exp(r*dt)-d)/(u-d) # Risk neutral probability of going up\n",
    "    disc = np.exp(-r*dt) # risk free discuont factor\n",
    "    \n",
    "    # Payoff of the european option at maturity\n",
    "    C = S0 * d **(np.arange(N,-1,-1)) * u **(np.arange(0, N+1,1)) \n",
    "    \n",
    "    if isCall:\n",
    "        C = np.maximum(C-K, np.zeros(N+1)) # Payoff of a European call option\n",
    "    else:\n",
    "        C = np.maximum(K-C, np.zeros(N+1)) # Payoff of a European ut option\n",
    "        \n",
    "    for i in np.arange(N,0,-1):\n",
    "        C = disc * (q * C[1:i+1] + (1-q) * C[0:i]) # Calculate the root branch of each single period binomail tree\n",
    "        \n",
    "    return C[0]\n"
   ]
  },
  {
   "cell_type": "markdown",
   "id": "afbe6146",
   "metadata": {},
   "source": [
    "## Getting started\n",
    "Assuming that we are interested in an European call option that matures in 5 years. The pricing is done monthly so the number of time intervals is 5*12 months = 60.\n",
    "The calculated volatility is 10 %, the risk-free rate is 5% and the strike price is 100. To get the implied price:\n"
   ]
  },
  {
   "cell_type": "code",
   "execution_count": 62,
   "id": "8597ff94",
   "metadata": {},
   "outputs": [
    {
     "data": {
      "text/plain": [
       "1.2619406807005622"
      ]
     },
     "execution_count": 62,
     "metadata": {},
     "output_type": "execute_result"
    }
   ],
   "source": [
    "import numpy as np\n",
    "binom_tree_option(60, 5, 100, 0.1, 0.05, 100, False)"
   ]
  }
 ],
 "metadata": {
  "kernelspec": {
   "display_name": "Python 3",
   "language": "python",
   "name": "python3"
  },
  "language_info": {
   "codemirror_mode": {
    "name": "ipython",
    "version": 3
   },
   "file_extension": ".py",
   "mimetype": "text/x-python",
   "name": "python",
   "nbconvert_exporter": "python",
   "pygments_lexer": "ipython3",
   "version": "3.8.8"
  }
 },
 "nbformat": 4,
 "nbformat_minor": 5
}
